{
  "nbformat": 4,
  "nbformat_minor": 0,
  "metadata": {
    "colab": {
      "provenance": [],
      "authorship_tag": "ABX9TyOkNPo1aJNrWM6QyhVvylds",
      "include_colab_link": true
    },
    "kernelspec": {
      "name": "python3",
      "display_name": "Python 3"
    },
    "language_info": {
      "name": "python"
    }
  },
  "cells": [
    {
      "cell_type": "markdown",
      "metadata": {
        "id": "view-in-github",
        "colab_type": "text"
      },
      "source": [
        "<a href=\"https://colab.research.google.com/github/Patricia1501/LetsGrowMore-Data-Science-Internship/blob/main/Task_2(Beginner_Level)Stock_Market_Prediction_And_Forecasting_Using_Stacked_LSTM.ipynb\" target=\"_parent\"><img src=\"https://colab.research.google.com/assets/colab-badge.svg\" alt=\"Open In Colab\"/></a>"
      ]
    },
    {
      "cell_type": "markdown",
      "source": [
        "LetsGrowMore Internship(Beginner Level)"
      ],
      "metadata": {
        "id": "SpawsIeVVLBP"
      }
    },
    {
      "cell_type": "markdown",
      "source": [
        "### <b><center><u>Task 2-Stock Market Prediction And Forecasting Using Stacked LSTM</b></center></u>"
      ],
      "metadata": {
        "id": "S0N0Gdk-VmYK"
      }
    },
    {
      "cell_type": "markdown",
      "source": [
        "LSTMs are an improved version of recurrent neural networks (RNNs). RNNs are analogous to human learning. When humans think, we don’t start our thinking from scratch each second. For example, in the sentence “Bob plays basketball”, we know that Bob is the person who plays basketball because we retain information about past words while reading sentences. Similarly, RNNs are networks with loops in them, which allow them to use past information before arriving at a final output. However, RNNs can only connect recent previous information and cannot connect information as the time gap grows. This is where LSTMs come into play; LSTMs are a type of RNN that remember information over long periods of time, making them better suited for predicting stock prices."
      ],
      "metadata": {
        "id": "llH6ft27VK30"
      }
    },
    {
      "cell_type": "markdown",
      "source": [
        "<b>Import Libraries</b><br>\n",
        "To begin our project, we import numpy for making scientific computations, pandas for loading and modifying datasets, and matplotlib for plotting graphs."
      ],
      "metadata": {
        "id": "_EB9jZLBV-EF"
      }
    },
    {
      "cell_type": "code",
      "execution_count": 16,
      "metadata": {
        "id": "NBnmPIIIGaxr"
      },
      "outputs": [],
      "source": [
        "import numpy as np\n",
        "import matplotlib.pyplot as plt\n",
        "import pandas as pd\n",
        "import math"
      ]
    },
    {
      "cell_type": "code",
      "source": [
        "import warnings\n",
        "warnings.filterwarnings(\"ignore\")"
      ],
      "metadata": {
        "id": "pTMuKvCVG6Pg"
      },
      "execution_count": 2,
      "outputs": []
    },
    {
      "cell_type": "code",
      "source": [
        "from google.colab import drive\n",
        "drive.mount('/content/drive')"
      ],
      "metadata": {
        "colab": {
          "base_uri": "https://localhost:8080/"
        },
        "id": "ahad7IptHAeO",
        "outputId": "45f2ab30-33e1-4da1-e513-63c0c8147719"
      },
      "execution_count": 3,
      "outputs": [
        {
          "output_type": "stream",
          "name": "stdout",
          "text": [
            "Mounted at /content/drive\n"
          ]
        }
      ]
    },
    {
      "cell_type": "code",
      "source": [
        "df= pd.read_csv('/content/drive/My Drive/Colab Notebooks/LetsGrowMore Internship/Beginner Level/Task 2-Stock Market Prediction and Marketing Using Stacked LSTM/NSE-TATAGLOBAL.csv')"
      ],
      "metadata": {
        "id": "Z1nYyksdHUzx"
      },
      "execution_count": 6,
      "outputs": []
    },
    {
      "cell_type": "code",
      "source": [
        "training_set = df.iloc[:, 1:2].values"
      ],
      "metadata": {
        "id": "f2-f7F-XNaEV"
      },
      "execution_count": 24,
      "outputs": []
    },
    {
      "cell_type": "code",
      "source": [
        "df"
      ],
      "metadata": {
        "colab": {
          "base_uri": "https://localhost:8080/",
          "height": 423
        },
        "id": "DlaGREa-JD6M",
        "outputId": "1efd496f-57c9-476c-d036-bc32b7dcc8b1"
      },
      "execution_count": 7,
      "outputs": [
        {
          "output_type": "execute_result",
          "data": {
            "text/plain": [
              "            Date    Open    High     Low    Last   Close  \\\n",
              "0     2018-09-28  234.05  235.95  230.20  233.50  233.75   \n",
              "1     2018-09-27  234.55  236.80  231.10  233.80  233.25   \n",
              "2     2018-09-26  240.00  240.00  232.50  235.00  234.25   \n",
              "3     2018-09-25  233.30  236.75  232.00  236.25  236.10   \n",
              "4     2018-09-24  233.55  239.20  230.75  234.00  233.30   \n",
              "...          ...     ...     ...     ...     ...     ...   \n",
              "2030  2010-07-27  117.60  119.50  112.00  118.80  118.65   \n",
              "2031  2010-07-26  120.10  121.00  117.10  117.10  117.60   \n",
              "2032  2010-07-23  121.80  121.95  120.25  120.35  120.65   \n",
              "2033  2010-07-22  120.30  122.00  120.25  120.75  120.90   \n",
              "2034  2010-07-21  122.10  123.00  121.05  121.10  121.55   \n",
              "\n",
              "      Total Trade Quantity  Turnover (Lacs)  \n",
              "0                  3069914          7162.35  \n",
              "1                  5082859         11859.95  \n",
              "2                  2240909          5248.60  \n",
              "3                  2349368          5503.90  \n",
              "4                  3423509          7999.55  \n",
              "...                    ...              ...  \n",
              "2030                586100           694.98  \n",
              "2031                658440           780.01  \n",
              "2032                281312           340.31  \n",
              "2033                293312           355.17  \n",
              "2034                658666           803.56  \n",
              "\n",
              "[2035 rows x 8 columns]"
            ],
            "text/html": [
              "\n",
              "  <div id=\"df-a66c8da1-2dac-4834-81a3-71576036e0f6\">\n",
              "    <div class=\"colab-df-container\">\n",
              "      <div>\n",
              "<style scoped>\n",
              "    .dataframe tbody tr th:only-of-type {\n",
              "        vertical-align: middle;\n",
              "    }\n",
              "\n",
              "    .dataframe tbody tr th {\n",
              "        vertical-align: top;\n",
              "    }\n",
              "\n",
              "    .dataframe thead th {\n",
              "        text-align: right;\n",
              "    }\n",
              "</style>\n",
              "<table border=\"1\" class=\"dataframe\">\n",
              "  <thead>\n",
              "    <tr style=\"text-align: right;\">\n",
              "      <th></th>\n",
              "      <th>Date</th>\n",
              "      <th>Open</th>\n",
              "      <th>High</th>\n",
              "      <th>Low</th>\n",
              "      <th>Last</th>\n",
              "      <th>Close</th>\n",
              "      <th>Total Trade Quantity</th>\n",
              "      <th>Turnover (Lacs)</th>\n",
              "    </tr>\n",
              "  </thead>\n",
              "  <tbody>\n",
              "    <tr>\n",
              "      <th>0</th>\n",
              "      <td>2018-09-28</td>\n",
              "      <td>234.05</td>\n",
              "      <td>235.95</td>\n",
              "      <td>230.20</td>\n",
              "      <td>233.50</td>\n",
              "      <td>233.75</td>\n",
              "      <td>3069914</td>\n",
              "      <td>7162.35</td>\n",
              "    </tr>\n",
              "    <tr>\n",
              "      <th>1</th>\n",
              "      <td>2018-09-27</td>\n",
              "      <td>234.55</td>\n",
              "      <td>236.80</td>\n",
              "      <td>231.10</td>\n",
              "      <td>233.80</td>\n",
              "      <td>233.25</td>\n",
              "      <td>5082859</td>\n",
              "      <td>11859.95</td>\n",
              "    </tr>\n",
              "    <tr>\n",
              "      <th>2</th>\n",
              "      <td>2018-09-26</td>\n",
              "      <td>240.00</td>\n",
              "      <td>240.00</td>\n",
              "      <td>232.50</td>\n",
              "      <td>235.00</td>\n",
              "      <td>234.25</td>\n",
              "      <td>2240909</td>\n",
              "      <td>5248.60</td>\n",
              "    </tr>\n",
              "    <tr>\n",
              "      <th>3</th>\n",
              "      <td>2018-09-25</td>\n",
              "      <td>233.30</td>\n",
              "      <td>236.75</td>\n",
              "      <td>232.00</td>\n",
              "      <td>236.25</td>\n",
              "      <td>236.10</td>\n",
              "      <td>2349368</td>\n",
              "      <td>5503.90</td>\n",
              "    </tr>\n",
              "    <tr>\n",
              "      <th>4</th>\n",
              "      <td>2018-09-24</td>\n",
              "      <td>233.55</td>\n",
              "      <td>239.20</td>\n",
              "      <td>230.75</td>\n",
              "      <td>234.00</td>\n",
              "      <td>233.30</td>\n",
              "      <td>3423509</td>\n",
              "      <td>7999.55</td>\n",
              "    </tr>\n",
              "    <tr>\n",
              "      <th>...</th>\n",
              "      <td>...</td>\n",
              "      <td>...</td>\n",
              "      <td>...</td>\n",
              "      <td>...</td>\n",
              "      <td>...</td>\n",
              "      <td>...</td>\n",
              "      <td>...</td>\n",
              "      <td>...</td>\n",
              "    </tr>\n",
              "    <tr>\n",
              "      <th>2030</th>\n",
              "      <td>2010-07-27</td>\n",
              "      <td>117.60</td>\n",
              "      <td>119.50</td>\n",
              "      <td>112.00</td>\n",
              "      <td>118.80</td>\n",
              "      <td>118.65</td>\n",
              "      <td>586100</td>\n",
              "      <td>694.98</td>\n",
              "    </tr>\n",
              "    <tr>\n",
              "      <th>2031</th>\n",
              "      <td>2010-07-26</td>\n",
              "      <td>120.10</td>\n",
              "      <td>121.00</td>\n",
              "      <td>117.10</td>\n",
              "      <td>117.10</td>\n",
              "      <td>117.60</td>\n",
              "      <td>658440</td>\n",
              "      <td>780.01</td>\n",
              "    </tr>\n",
              "    <tr>\n",
              "      <th>2032</th>\n",
              "      <td>2010-07-23</td>\n",
              "      <td>121.80</td>\n",
              "      <td>121.95</td>\n",
              "      <td>120.25</td>\n",
              "      <td>120.35</td>\n",
              "      <td>120.65</td>\n",
              "      <td>281312</td>\n",
              "      <td>340.31</td>\n",
              "    </tr>\n",
              "    <tr>\n",
              "      <th>2033</th>\n",
              "      <td>2010-07-22</td>\n",
              "      <td>120.30</td>\n",
              "      <td>122.00</td>\n",
              "      <td>120.25</td>\n",
              "      <td>120.75</td>\n",
              "      <td>120.90</td>\n",
              "      <td>293312</td>\n",
              "      <td>355.17</td>\n",
              "    </tr>\n",
              "    <tr>\n",
              "      <th>2034</th>\n",
              "      <td>2010-07-21</td>\n",
              "      <td>122.10</td>\n",
              "      <td>123.00</td>\n",
              "      <td>121.05</td>\n",
              "      <td>121.10</td>\n",
              "      <td>121.55</td>\n",
              "      <td>658666</td>\n",
              "      <td>803.56</td>\n",
              "    </tr>\n",
              "  </tbody>\n",
              "</table>\n",
              "<p>2035 rows × 8 columns</p>\n",
              "</div>\n",
              "      <button class=\"colab-df-convert\" onclick=\"convertToInteractive('df-a66c8da1-2dac-4834-81a3-71576036e0f6')\"\n",
              "              title=\"Convert this dataframe to an interactive table.\"\n",
              "              style=\"display:none;\">\n",
              "        \n",
              "  <svg xmlns=\"http://www.w3.org/2000/svg\" height=\"24px\"viewBox=\"0 0 24 24\"\n",
              "       width=\"24px\">\n",
              "    <path d=\"M0 0h24v24H0V0z\" fill=\"none\"/>\n",
              "    <path d=\"M18.56 5.44l.94 2.06.94-2.06 2.06-.94-2.06-.94-.94-2.06-.94 2.06-2.06.94zm-11 1L8.5 8.5l.94-2.06 2.06-.94-2.06-.94L8.5 2.5l-.94 2.06-2.06.94zm10 10l.94 2.06.94-2.06 2.06-.94-2.06-.94-.94-2.06-.94 2.06-2.06.94z\"/><path d=\"M17.41 7.96l-1.37-1.37c-.4-.4-.92-.59-1.43-.59-.52 0-1.04.2-1.43.59L10.3 9.45l-7.72 7.72c-.78.78-.78 2.05 0 2.83L4 21.41c.39.39.9.59 1.41.59.51 0 1.02-.2 1.41-.59l7.78-7.78 2.81-2.81c.8-.78.8-2.07 0-2.86zM5.41 20L4 18.59l7.72-7.72 1.47 1.35L5.41 20z\"/>\n",
              "  </svg>\n",
              "      </button>\n",
              "      \n",
              "  <style>\n",
              "    .colab-df-container {\n",
              "      display:flex;\n",
              "      flex-wrap:wrap;\n",
              "      gap: 12px;\n",
              "    }\n",
              "\n",
              "    .colab-df-convert {\n",
              "      background-color: #E8F0FE;\n",
              "      border: none;\n",
              "      border-radius: 50%;\n",
              "      cursor: pointer;\n",
              "      display: none;\n",
              "      fill: #1967D2;\n",
              "      height: 32px;\n",
              "      padding: 0 0 0 0;\n",
              "      width: 32px;\n",
              "    }\n",
              "\n",
              "    .colab-df-convert:hover {\n",
              "      background-color: #E2EBFA;\n",
              "      box-shadow: 0px 1px 2px rgba(60, 64, 67, 0.3), 0px 1px 3px 1px rgba(60, 64, 67, 0.15);\n",
              "      fill: #174EA6;\n",
              "    }\n",
              "\n",
              "    [theme=dark] .colab-df-convert {\n",
              "      background-color: #3B4455;\n",
              "      fill: #D2E3FC;\n",
              "    }\n",
              "\n",
              "    [theme=dark] .colab-df-convert:hover {\n",
              "      background-color: #434B5C;\n",
              "      box-shadow: 0px 1px 3px 1px rgba(0, 0, 0, 0.15);\n",
              "      filter: drop-shadow(0px 1px 2px rgba(0, 0, 0, 0.3));\n",
              "      fill: #FFFFFF;\n",
              "    }\n",
              "  </style>\n",
              "\n",
              "      <script>\n",
              "        const buttonEl =\n",
              "          document.querySelector('#df-a66c8da1-2dac-4834-81a3-71576036e0f6 button.colab-df-convert');\n",
              "        buttonEl.style.display =\n",
              "          google.colab.kernel.accessAllowed ? 'block' : 'none';\n",
              "\n",
              "        async function convertToInteractive(key) {\n",
              "          const element = document.querySelector('#df-a66c8da1-2dac-4834-81a3-71576036e0f6');\n",
              "          const dataTable =\n",
              "            await google.colab.kernel.invokeFunction('convertToInteractive',\n",
              "                                                     [key], {});\n",
              "          if (!dataTable) return;\n",
              "\n",
              "          const docLinkHtml = 'Like what you see? Visit the ' +\n",
              "            '<a target=\"_blank\" href=https://colab.research.google.com/notebooks/data_table.ipynb>data table notebook</a>'\n",
              "            + ' to learn more about interactive tables.';\n",
              "          element.innerHTML = '';\n",
              "          dataTable['output_type'] = 'display_data';\n",
              "          await google.colab.output.renderOutput(dataTable, element);\n",
              "          const docLink = document.createElement('div');\n",
              "          docLink.innerHTML = docLinkHtml;\n",
              "          element.appendChild(docLink);\n",
              "        }\n",
              "      </script>\n",
              "    </div>\n",
              "  </div>\n",
              "  "
            ]
          },
          "metadata": {},
          "execution_count": 7
        }
      ]
    },
    {
      "cell_type": "code",
      "source": [
        "df.head()"
      ],
      "metadata": {
        "colab": {
          "base_uri": "https://localhost:8080/",
          "height": 206
        },
        "id": "qH3TRr22Jcrj",
        "outputId": "3bab1b6b-d635-4521-dc67-2bc02340816a"
      },
      "execution_count": 8,
      "outputs": [
        {
          "output_type": "execute_result",
          "data": {
            "text/plain": [
              "         Date    Open    High     Low    Last   Close  Total Trade Quantity  \\\n",
              "0  2018-09-28  234.05  235.95  230.20  233.50  233.75               3069914   \n",
              "1  2018-09-27  234.55  236.80  231.10  233.80  233.25               5082859   \n",
              "2  2018-09-26  240.00  240.00  232.50  235.00  234.25               2240909   \n",
              "3  2018-09-25  233.30  236.75  232.00  236.25  236.10               2349368   \n",
              "4  2018-09-24  233.55  239.20  230.75  234.00  233.30               3423509   \n",
              "\n",
              "   Turnover (Lacs)  \n",
              "0          7162.35  \n",
              "1         11859.95  \n",
              "2          5248.60  \n",
              "3          5503.90  \n",
              "4          7999.55  "
            ],
            "text/html": [
              "\n",
              "  <div id=\"df-a24ff487-e597-44b0-ae6f-0657b2864866\">\n",
              "    <div class=\"colab-df-container\">\n",
              "      <div>\n",
              "<style scoped>\n",
              "    .dataframe tbody tr th:only-of-type {\n",
              "        vertical-align: middle;\n",
              "    }\n",
              "\n",
              "    .dataframe tbody tr th {\n",
              "        vertical-align: top;\n",
              "    }\n",
              "\n",
              "    .dataframe thead th {\n",
              "        text-align: right;\n",
              "    }\n",
              "</style>\n",
              "<table border=\"1\" class=\"dataframe\">\n",
              "  <thead>\n",
              "    <tr style=\"text-align: right;\">\n",
              "      <th></th>\n",
              "      <th>Date</th>\n",
              "      <th>Open</th>\n",
              "      <th>High</th>\n",
              "      <th>Low</th>\n",
              "      <th>Last</th>\n",
              "      <th>Close</th>\n",
              "      <th>Total Trade Quantity</th>\n",
              "      <th>Turnover (Lacs)</th>\n",
              "    </tr>\n",
              "  </thead>\n",
              "  <tbody>\n",
              "    <tr>\n",
              "      <th>0</th>\n",
              "      <td>2018-09-28</td>\n",
              "      <td>234.05</td>\n",
              "      <td>235.95</td>\n",
              "      <td>230.20</td>\n",
              "      <td>233.50</td>\n",
              "      <td>233.75</td>\n",
              "      <td>3069914</td>\n",
              "      <td>7162.35</td>\n",
              "    </tr>\n",
              "    <tr>\n",
              "      <th>1</th>\n",
              "      <td>2018-09-27</td>\n",
              "      <td>234.55</td>\n",
              "      <td>236.80</td>\n",
              "      <td>231.10</td>\n",
              "      <td>233.80</td>\n",
              "      <td>233.25</td>\n",
              "      <td>5082859</td>\n",
              "      <td>11859.95</td>\n",
              "    </tr>\n",
              "    <tr>\n",
              "      <th>2</th>\n",
              "      <td>2018-09-26</td>\n",
              "      <td>240.00</td>\n",
              "      <td>240.00</td>\n",
              "      <td>232.50</td>\n",
              "      <td>235.00</td>\n",
              "      <td>234.25</td>\n",
              "      <td>2240909</td>\n",
              "      <td>5248.60</td>\n",
              "    </tr>\n",
              "    <tr>\n",
              "      <th>3</th>\n",
              "      <td>2018-09-25</td>\n",
              "      <td>233.30</td>\n",
              "      <td>236.75</td>\n",
              "      <td>232.00</td>\n",
              "      <td>236.25</td>\n",
              "      <td>236.10</td>\n",
              "      <td>2349368</td>\n",
              "      <td>5503.90</td>\n",
              "    </tr>\n",
              "    <tr>\n",
              "      <th>4</th>\n",
              "      <td>2018-09-24</td>\n",
              "      <td>233.55</td>\n",
              "      <td>239.20</td>\n",
              "      <td>230.75</td>\n",
              "      <td>234.00</td>\n",
              "      <td>233.30</td>\n",
              "      <td>3423509</td>\n",
              "      <td>7999.55</td>\n",
              "    </tr>\n",
              "  </tbody>\n",
              "</table>\n",
              "</div>\n",
              "      <button class=\"colab-df-convert\" onclick=\"convertToInteractive('df-a24ff487-e597-44b0-ae6f-0657b2864866')\"\n",
              "              title=\"Convert this dataframe to an interactive table.\"\n",
              "              style=\"display:none;\">\n",
              "        \n",
              "  <svg xmlns=\"http://www.w3.org/2000/svg\" height=\"24px\"viewBox=\"0 0 24 24\"\n",
              "       width=\"24px\">\n",
              "    <path d=\"M0 0h24v24H0V0z\" fill=\"none\"/>\n",
              "    <path d=\"M18.56 5.44l.94 2.06.94-2.06 2.06-.94-2.06-.94-.94-2.06-.94 2.06-2.06.94zm-11 1L8.5 8.5l.94-2.06 2.06-.94-2.06-.94L8.5 2.5l-.94 2.06-2.06.94zm10 10l.94 2.06.94-2.06 2.06-.94-2.06-.94-.94-2.06-.94 2.06-2.06.94z\"/><path d=\"M17.41 7.96l-1.37-1.37c-.4-.4-.92-.59-1.43-.59-.52 0-1.04.2-1.43.59L10.3 9.45l-7.72 7.72c-.78.78-.78 2.05 0 2.83L4 21.41c.39.39.9.59 1.41.59.51 0 1.02-.2 1.41-.59l7.78-7.78 2.81-2.81c.8-.78.8-2.07 0-2.86zM5.41 20L4 18.59l7.72-7.72 1.47 1.35L5.41 20z\"/>\n",
              "  </svg>\n",
              "      </button>\n",
              "      \n",
              "  <style>\n",
              "    .colab-df-container {\n",
              "      display:flex;\n",
              "      flex-wrap:wrap;\n",
              "      gap: 12px;\n",
              "    }\n",
              "\n",
              "    .colab-df-convert {\n",
              "      background-color: #E8F0FE;\n",
              "      border: none;\n",
              "      border-radius: 50%;\n",
              "      cursor: pointer;\n",
              "      display: none;\n",
              "      fill: #1967D2;\n",
              "      height: 32px;\n",
              "      padding: 0 0 0 0;\n",
              "      width: 32px;\n",
              "    }\n",
              "\n",
              "    .colab-df-convert:hover {\n",
              "      background-color: #E2EBFA;\n",
              "      box-shadow: 0px 1px 2px rgba(60, 64, 67, 0.3), 0px 1px 3px 1px rgba(60, 64, 67, 0.15);\n",
              "      fill: #174EA6;\n",
              "    }\n",
              "\n",
              "    [theme=dark] .colab-df-convert {\n",
              "      background-color: #3B4455;\n",
              "      fill: #D2E3FC;\n",
              "    }\n",
              "\n",
              "    [theme=dark] .colab-df-convert:hover {\n",
              "      background-color: #434B5C;\n",
              "      box-shadow: 0px 1px 3px 1px rgba(0, 0, 0, 0.15);\n",
              "      filter: drop-shadow(0px 1px 2px rgba(0, 0, 0, 0.3));\n",
              "      fill: #FFFFFF;\n",
              "    }\n",
              "  </style>\n",
              "\n",
              "      <script>\n",
              "        const buttonEl =\n",
              "          document.querySelector('#df-a24ff487-e597-44b0-ae6f-0657b2864866 button.colab-df-convert');\n",
              "        buttonEl.style.display =\n",
              "          google.colab.kernel.accessAllowed ? 'block' : 'none';\n",
              "\n",
              "        async function convertToInteractive(key) {\n",
              "          const element = document.querySelector('#df-a24ff487-e597-44b0-ae6f-0657b2864866');\n",
              "          const dataTable =\n",
              "            await google.colab.kernel.invokeFunction('convertToInteractive',\n",
              "                                                     [key], {});\n",
              "          if (!dataTable) return;\n",
              "\n",
              "          const docLinkHtml = 'Like what you see? Visit the ' +\n",
              "            '<a target=\"_blank\" href=https://colab.research.google.com/notebooks/data_table.ipynb>data table notebook</a>'\n",
              "            + ' to learn more about interactive tables.';\n",
              "          element.innerHTML = '';\n",
              "          dataTable['output_type'] = 'display_data';\n",
              "          await google.colab.output.renderOutput(dataTable, element);\n",
              "          const docLink = document.createElement('div');\n",
              "          docLink.innerHTML = docLinkHtml;\n",
              "          element.appendChild(docLink);\n",
              "        }\n",
              "      </script>\n",
              "    </div>\n",
              "  </div>\n",
              "  "
            ]
          },
          "metadata": {},
          "execution_count": 8
        }
      ]
    },
    {
      "cell_type": "code",
      "source": [
        "df.tail()"
      ],
      "metadata": {
        "colab": {
          "base_uri": "https://localhost:8080/",
          "height": 206
        },
        "id": "BuGHOdGiJ-pp",
        "outputId": "d49653b2-3c87-4544-ea31-d8b4e9bc79b1"
      },
      "execution_count": 9,
      "outputs": [
        {
          "output_type": "execute_result",
          "data": {
            "text/plain": [
              "            Date   Open    High     Low    Last   Close  Total Trade Quantity  \\\n",
              "2030  2010-07-27  117.6  119.50  112.00  118.80  118.65                586100   \n",
              "2031  2010-07-26  120.1  121.00  117.10  117.10  117.60                658440   \n",
              "2032  2010-07-23  121.8  121.95  120.25  120.35  120.65                281312   \n",
              "2033  2010-07-22  120.3  122.00  120.25  120.75  120.90                293312   \n",
              "2034  2010-07-21  122.1  123.00  121.05  121.10  121.55                658666   \n",
              "\n",
              "      Turnover (Lacs)  \n",
              "2030           694.98  \n",
              "2031           780.01  \n",
              "2032           340.31  \n",
              "2033           355.17  \n",
              "2034           803.56  "
            ],
            "text/html": [
              "\n",
              "  <div id=\"df-816c23bc-2cd6-447b-afc8-290ad6ffff48\">\n",
              "    <div class=\"colab-df-container\">\n",
              "      <div>\n",
              "<style scoped>\n",
              "    .dataframe tbody tr th:only-of-type {\n",
              "        vertical-align: middle;\n",
              "    }\n",
              "\n",
              "    .dataframe tbody tr th {\n",
              "        vertical-align: top;\n",
              "    }\n",
              "\n",
              "    .dataframe thead th {\n",
              "        text-align: right;\n",
              "    }\n",
              "</style>\n",
              "<table border=\"1\" class=\"dataframe\">\n",
              "  <thead>\n",
              "    <tr style=\"text-align: right;\">\n",
              "      <th></th>\n",
              "      <th>Date</th>\n",
              "      <th>Open</th>\n",
              "      <th>High</th>\n",
              "      <th>Low</th>\n",
              "      <th>Last</th>\n",
              "      <th>Close</th>\n",
              "      <th>Total Trade Quantity</th>\n",
              "      <th>Turnover (Lacs)</th>\n",
              "    </tr>\n",
              "  </thead>\n",
              "  <tbody>\n",
              "    <tr>\n",
              "      <th>2030</th>\n",
              "      <td>2010-07-27</td>\n",
              "      <td>117.6</td>\n",
              "      <td>119.50</td>\n",
              "      <td>112.00</td>\n",
              "      <td>118.80</td>\n",
              "      <td>118.65</td>\n",
              "      <td>586100</td>\n",
              "      <td>694.98</td>\n",
              "    </tr>\n",
              "    <tr>\n",
              "      <th>2031</th>\n",
              "      <td>2010-07-26</td>\n",
              "      <td>120.1</td>\n",
              "      <td>121.00</td>\n",
              "      <td>117.10</td>\n",
              "      <td>117.10</td>\n",
              "      <td>117.60</td>\n",
              "      <td>658440</td>\n",
              "      <td>780.01</td>\n",
              "    </tr>\n",
              "    <tr>\n",
              "      <th>2032</th>\n",
              "      <td>2010-07-23</td>\n",
              "      <td>121.8</td>\n",
              "      <td>121.95</td>\n",
              "      <td>120.25</td>\n",
              "      <td>120.35</td>\n",
              "      <td>120.65</td>\n",
              "      <td>281312</td>\n",
              "      <td>340.31</td>\n",
              "    </tr>\n",
              "    <tr>\n",
              "      <th>2033</th>\n",
              "      <td>2010-07-22</td>\n",
              "      <td>120.3</td>\n",
              "      <td>122.00</td>\n",
              "      <td>120.25</td>\n",
              "      <td>120.75</td>\n",
              "      <td>120.90</td>\n",
              "      <td>293312</td>\n",
              "      <td>355.17</td>\n",
              "    </tr>\n",
              "    <tr>\n",
              "      <th>2034</th>\n",
              "      <td>2010-07-21</td>\n",
              "      <td>122.1</td>\n",
              "      <td>123.00</td>\n",
              "      <td>121.05</td>\n",
              "      <td>121.10</td>\n",
              "      <td>121.55</td>\n",
              "      <td>658666</td>\n",
              "      <td>803.56</td>\n",
              "    </tr>\n",
              "  </tbody>\n",
              "</table>\n",
              "</div>\n",
              "      <button class=\"colab-df-convert\" onclick=\"convertToInteractive('df-816c23bc-2cd6-447b-afc8-290ad6ffff48')\"\n",
              "              title=\"Convert this dataframe to an interactive table.\"\n",
              "              style=\"display:none;\">\n",
              "        \n",
              "  <svg xmlns=\"http://www.w3.org/2000/svg\" height=\"24px\"viewBox=\"0 0 24 24\"\n",
              "       width=\"24px\">\n",
              "    <path d=\"M0 0h24v24H0V0z\" fill=\"none\"/>\n",
              "    <path d=\"M18.56 5.44l.94 2.06.94-2.06 2.06-.94-2.06-.94-.94-2.06-.94 2.06-2.06.94zm-11 1L8.5 8.5l.94-2.06 2.06-.94-2.06-.94L8.5 2.5l-.94 2.06-2.06.94zm10 10l.94 2.06.94-2.06 2.06-.94-2.06-.94-.94-2.06-.94 2.06-2.06.94z\"/><path d=\"M17.41 7.96l-1.37-1.37c-.4-.4-.92-.59-1.43-.59-.52 0-1.04.2-1.43.59L10.3 9.45l-7.72 7.72c-.78.78-.78 2.05 0 2.83L4 21.41c.39.39.9.59 1.41.59.51 0 1.02-.2 1.41-.59l7.78-7.78 2.81-2.81c.8-.78.8-2.07 0-2.86zM5.41 20L4 18.59l7.72-7.72 1.47 1.35L5.41 20z\"/>\n",
              "  </svg>\n",
              "      </button>\n",
              "      \n",
              "  <style>\n",
              "    .colab-df-container {\n",
              "      display:flex;\n",
              "      flex-wrap:wrap;\n",
              "      gap: 12px;\n",
              "    }\n",
              "\n",
              "    .colab-df-convert {\n",
              "      background-color: #E8F0FE;\n",
              "      border: none;\n",
              "      border-radius: 50%;\n",
              "      cursor: pointer;\n",
              "      display: none;\n",
              "      fill: #1967D2;\n",
              "      height: 32px;\n",
              "      padding: 0 0 0 0;\n",
              "      width: 32px;\n",
              "    }\n",
              "\n",
              "    .colab-df-convert:hover {\n",
              "      background-color: #E2EBFA;\n",
              "      box-shadow: 0px 1px 2px rgba(60, 64, 67, 0.3), 0px 1px 3px 1px rgba(60, 64, 67, 0.15);\n",
              "      fill: #174EA6;\n",
              "    }\n",
              "\n",
              "    [theme=dark] .colab-df-convert {\n",
              "      background-color: #3B4455;\n",
              "      fill: #D2E3FC;\n",
              "    }\n",
              "\n",
              "    [theme=dark] .colab-df-convert:hover {\n",
              "      background-color: #434B5C;\n",
              "      box-shadow: 0px 1px 3px 1px rgba(0, 0, 0, 0.15);\n",
              "      filter: drop-shadow(0px 1px 2px rgba(0, 0, 0, 0.3));\n",
              "      fill: #FFFFFF;\n",
              "    }\n",
              "  </style>\n",
              "\n",
              "      <script>\n",
              "        const buttonEl =\n",
              "          document.querySelector('#df-816c23bc-2cd6-447b-afc8-290ad6ffff48 button.colab-df-convert');\n",
              "        buttonEl.style.display =\n",
              "          google.colab.kernel.accessAllowed ? 'block' : 'none';\n",
              "\n",
              "        async function convertToInteractive(key) {\n",
              "          const element = document.querySelector('#df-816c23bc-2cd6-447b-afc8-290ad6ffff48');\n",
              "          const dataTable =\n",
              "            await google.colab.kernel.invokeFunction('convertToInteractive',\n",
              "                                                     [key], {});\n",
              "          if (!dataTable) return;\n",
              "\n",
              "          const docLinkHtml = 'Like what you see? Visit the ' +\n",
              "            '<a target=\"_blank\" href=https://colab.research.google.com/notebooks/data_table.ipynb>data table notebook</a>'\n",
              "            + ' to learn more about interactive tables.';\n",
              "          element.innerHTML = '';\n",
              "          dataTable['output_type'] = 'display_data';\n",
              "          await google.colab.output.renderOutput(dataTable, element);\n",
              "          const docLink = document.createElement('div');\n",
              "          docLink.innerHTML = docLinkHtml;\n",
              "          element.appendChild(docLink);\n",
              "        }\n",
              "      </script>\n",
              "    </div>\n",
              "  </div>\n",
              "  "
            ]
          },
          "metadata": {},
          "execution_count": 9
        }
      ]
    },
    {
      "cell_type": "code",
      "source": [
        "df.columns"
      ],
      "metadata": {
        "colab": {
          "base_uri": "https://localhost:8080/"
        },
        "id": "eY8tDoM8KBCF",
        "outputId": "ddb09d3d-dc9e-4ec8-980e-8b6d1d721f26"
      },
      "execution_count": 10,
      "outputs": [
        {
          "output_type": "execute_result",
          "data": {
            "text/plain": [
              "Index(['Date', 'Open', 'High', 'Low', 'Last', 'Close', 'Total Trade Quantity',\n",
              "       'Turnover (Lacs)'],\n",
              "      dtype='object')"
            ]
          },
          "metadata": {},
          "execution_count": 10
        }
      ]
    },
    {
      "cell_type": "code",
      "source": [
        "df.info()"
      ],
      "metadata": {
        "colab": {
          "base_uri": "https://localhost:8080/"
        },
        "id": "vSiTuaGBKD1W",
        "outputId": "6789de51-a83a-4445-e0f7-ac7dd9a53e25"
      },
      "execution_count": 11,
      "outputs": [
        {
          "output_type": "stream",
          "name": "stdout",
          "text": [
            "<class 'pandas.core.frame.DataFrame'>\n",
            "RangeIndex: 2035 entries, 0 to 2034\n",
            "Data columns (total 8 columns):\n",
            " #   Column                Non-Null Count  Dtype  \n",
            "---  ------                --------------  -----  \n",
            " 0   Date                  2035 non-null   object \n",
            " 1   Open                  2035 non-null   float64\n",
            " 2   High                  2035 non-null   float64\n",
            " 3   Low                   2035 non-null   float64\n",
            " 4   Last                  2035 non-null   float64\n",
            " 5   Close                 2035 non-null   float64\n",
            " 6   Total Trade Quantity  2035 non-null   int64  \n",
            " 7   Turnover (Lacs)       2035 non-null   float64\n",
            "dtypes: float64(6), int64(1), object(1)\n",
            "memory usage: 127.3+ KB\n"
          ]
        }
      ]
    },
    {
      "cell_type": "code",
      "source": [
        "df_close = df['Close']"
      ],
      "metadata": {
        "id": "Ew_gCZ2lKIYt"
      },
      "execution_count": 12,
      "outputs": []
    },
    {
      "cell_type": "code",
      "source": [
        "df_close.shape"
      ],
      "metadata": {
        "colab": {
          "base_uri": "https://localhost:8080/"
        },
        "id": "MqyzYSQCLRUW",
        "outputId": "e48a63fa-48b6-4a51-80b6-e3825d7adba9"
      },
      "execution_count": 13,
      "outputs": [
        {
          "output_type": "execute_result",
          "data": {
            "text/plain": [
              "(2035,)"
            ]
          },
          "metadata": {},
          "execution_count": 13
        }
      ]
    },
    {
      "cell_type": "code",
      "source": [
        "plt.plot(df_close)"
      ],
      "metadata": {
        "colab": {
          "base_uri": "https://localhost:8080/",
          "height": 447
        },
        "id": "hw8om6AkLX0J",
        "outputId": "0120e7fd-7fca-47a2-ee14-d12bcd34ca97"
      },
      "execution_count": 14,
      "outputs": [
        {
          "output_type": "execute_result",
          "data": {
            "text/plain": [
              "[<matplotlib.lines.Line2D at 0x7f6a00efac50>]"
            ]
          },
          "metadata": {},
          "execution_count": 14
        },
        {
          "output_type": "display_data",
          "data": {
            "text/plain": [
              "<Figure size 640x480 with 1 Axes>"
            ],
            "image/png": "[encoded data removed]"
          },
          "metadata": {}
        }
      ]
    },
    {
      "cell_type": "markdown",
      "source": [
        "Since LSTM are sensitive to the scale of the data, so we apply MinMax Scaler to transform our values between 0 and 1"
      ],
      "metadata": {
        "id": "dLpqW3ZwLnN0"
      }
    },
    {
      "cell_type": "markdown",
      "source": [
        "<b>Data Normalization</b><br>\n",
        "Normalization is changing the values of numeric columns in the dataset to a common scale, which helps the performance of our model. To scale the training dataset we use Scikit-Learn’s MinMaxScaler with numbers between zero and one."
      ],
      "metadata": {
        "id": "WJ5cvajEMVFh"
      }
    },
    {
      "cell_type": "code",
      "source": [
        "from sklearn.preprocessing import MinMaxScaler\n",
        "from sklearn.metrics import mean_squared_error"
      ],
      "metadata": {
        "id": "tKxQKwxOL9JM"
      },
      "execution_count": 26,
      "outputs": []
    },
    {
      "cell_type": "code",
      "source": [
        "sc = MinMaxScaler(feature_range = (0,1))\n",
        "df_close = scaler.fit_transform(np.array(df_close).reshape(-1,1))"
      ],
      "metadata": {
        "id": "i1pAsmpfLaJc"
      },
      "execution_count": 27,
      "outputs": []
    },
    {
      "cell_type": "code",
      "source": [
        "df_close.shape"
      ],
      "metadata": {
        "colab": {
          "base_uri": "https://localhost:8080/"
        },
        "id": "WMajh9jgLrY9",
        "outputId": "376894af-aac9-4beb-d639-02c08f0bab50"
      },
      "execution_count": 28,
      "outputs": [
        {
          "output_type": "execute_result",
          "data": {
            "text/plain": [
              "(2035, 1)"
            ]
          },
          "metadata": {},
          "execution_count": 28
        }
      ]
    },
    {
      "cell_type": "code",
      "source": [
        "df_close"
      ],
      "metadata": {
        "colab": {
          "base_uri": "https://localhost:8080/"
        },
        "id": "ES0_rupiMDgQ",
        "outputId": "1e5d4b6a-e820-41b6-e388-1ab65ca83012"
      },
      "execution_count": 29,
      "outputs": [
        {
          "output_type": "execute_result",
          "data": {
            "text/plain": [
              "array([[0.62418301],\n",
              "       [0.62214052],\n",
              "       [0.62622549],\n",
              "       ...,\n",
              "       [0.1621732 ],\n",
              "       [0.16319444],\n",
              "       [0.16584967]])"
            ]
          },
          "metadata": {},
          "execution_count": 29
        }
      ]
    },
    {
      "cell_type": "code",
      "source": [
        "training_set_scaled = sc.fit_transform(training_set)"
      ],
      "metadata": {
        "id": "zJXniYpzMHMJ"
      },
      "execution_count": 30,
      "outputs": []
    },
    {
      "cell_type": "markdown",
      "source": [
        "<b>Incorporating Timesteps Into Data</b><br>\n",
        "We should input our data in the form of a 3D array to the LSTM model. First, we create data in 60 timesteps before using numpy to convert it into an array. Finally, we convert the data into a 3D array with X_train samples, 60 timestamps, and one feature at each step."
      ],
      "metadata": {
        "id": "dxhZaJQqWdFN"
      }
    },
    {
      "cell_type": "code",
      "source": [
        "X_train = []\n",
        "y_train = []\n",
        "for i in range(60, 2035):\n",
        "  X_train.append(training_set_scaled[i-60:i, 0])\n",
        "  y_train.append(training_set_scaled[i, 0])\n",
        "X_train, y_train = np.array(X_train), np.array(y_train)\n",
        "X_train = np.reshape(X_train, (X_train.shape[0], X_train.shape[1], 1))"
      ],
      "metadata": {
        "id": "5NmlY24MMpOp"
      },
      "execution_count": 38,
      "outputs": []
    },
    {
      "cell_type": "markdown",
      "source": [
        "<b>Creating the LSTM Model</b><br>\n",
        "Before we can develop the LSTM, we have to make a few imports from Keras: Sequential for initializing the neural network, LSTM to add the LSTM layer, Dropout for preventing overfitting with dropout layers, and Dense to add a densely connected neural network layer."
      ],
      "metadata": {
        "id": "u47hR3STWrGt"
      }
    },
    {
      "cell_type": "code",
      "source": [
        "from keras.models import Sequential\n",
        "from keras.layers import LSTM\n",
        "from keras.layers import Dropout\n",
        "from keras.layers import Dense"
      ],
      "metadata": {
        "id": "PPDdCiMBN0tt"
      },
      "execution_count": 39,
      "outputs": []
    },
    {
      "cell_type": "markdown",
      "source": [
        "The LSTM layer is added with the following arguments: 50 units is the dimensionality of the output space, return_sequences=True is necessary for stacking LSTM layers so the consequent LSTM layer has a three-dimensional sequence input, and input_shape is the shape of the training dataset.\n",
        "\n",
        "Specifying 0.2 in the Dropout layer means that 20% of the layers will be dropped. Following the LSTM and Dropout layers, we add the Dense layer that specifies an output of one unit. To compile our model we use the Adam optimizer and set the loss as the mean_squared_error. After that, we fit the model to run for 100 epochs (the epochs are the number of times the learning algorithm will work through the entire training set) with a batch size of 32."
      ],
      "metadata": {
        "id": "QfsVvrwqW198"
      }
    },
    {
      "cell_type": "code",
      "source": [
        "model = Sequential()\n",
        "model.add(LSTM(units=50,return_sequences=True,input_shape=(X_train.shape[1], 1)))\n",
        "model.add(Dropout(0.2))\n",
        "model.add(LSTM(units=50,return_sequences=True))\n",
        "model.add(Dropout(0.2))\n",
        "model.add(LSTM(units=50,return_sequences=True))\n",
        "model.add(Dropout(0.2))\n",
        "model.add(LSTM(units=50))\n",
        "model.add(Dropout(0.2))\n",
        "model.add(Dense(units=1))\n",
        "model.compile(optimizer='adam',loss='mean_squared_error')\n",
        "model.fit(X_train,y_train,epochs=100,batch_size=32)"
      ],
      "metadata": {
        "colab": {
          "base_uri": "https://localhost:8080/"
        },
        "id": "urLfWMbcN94d",
        "outputId": "b4d34d7c-4546-4f8c-e76d-f0664617d2fa"
      },
      "execution_count": 40,
      "outputs": [
        {
          "output_type": "stream",
          "name": "stdout",
          "text": [
            "Epoch 1/100\n",
            "62/62 [==============================] - 19s 159ms/step - loss: 0.0095\n",
            "Epoch 2/100\n",
            "62/62 [==============================] - 8s 129ms/step - loss: 0.0028\n",
            "Epoch 3/100\n",
            "62/62 [==============================] - 10s 160ms/step - loss: 0.0030\n",
            "Epoch 4/100\n",
            "62/62 [==============================] - 11s 181ms/step - loss: 0.0025\n",
            "Epoch 5/100\n",
            "62/62 [==============================] - 8s 128ms/step - loss: 0.0026\n",
            "Epoch 6/100\n",
            "62/62 [==============================] - 10s 159ms/step - loss: 0.0022\n",
            "Epoch 7/100\n",
            "62/62 [==============================] - 9s 150ms/step - loss: 0.0024\n",
            "Epoch 8/100\n",
            "62/62 [==============================] - 8s 135ms/step - loss: 0.0023\n",
            "Epoch 9/100\n",
            "62/62 [==============================] - 10s 159ms/step - loss: 0.0020\n",
            "Epoch 10/100\n",
            "62/62 [==============================] - 8s 130ms/step - loss: 0.0020\n",
            "Epoch 11/100\n",
            "62/62 [==============================] - 10s 154ms/step - loss: 0.0018\n",
            "Epoch 12/100\n",
            "62/62 [==============================] - 10s 160ms/step - loss: 0.0017\n",
            "Epoch 13/100\n",
            "62/62 [==============================] - 8s 128ms/step - loss: 0.0016\n",
            "Epoch 14/100\n",
            "62/62 [==============================] - 10s 159ms/step - loss: 0.0016\n",
            "Epoch 15/100\n",
            "62/62 [==============================] - 9s 151ms/step - loss: 0.0015\n",
            "Epoch 16/100\n",
            "62/62 [==============================] - 8s 135ms/step - loss: 0.0017\n",
            "Epoch 17/100\n",
            "62/62 [==============================] - 10s 162ms/step - loss: 0.0019\n",
            "Epoch 18/100\n",
            "62/62 [==============================] - 8s 135ms/step - loss: 0.0015\n",
            "Epoch 19/100\n",
            "62/62 [==============================] - 10s 154ms/step - loss: 0.0014\n",
            "Epoch 20/100\n",
            "62/62 [==============================] - 10s 160ms/step - loss: 0.0016\n",
            "Epoch 21/100\n",
            "62/62 [==============================] - 9s 139ms/step - loss: 0.0013\n",
            "Epoch 22/100\n",
            "62/62 [==============================] - 11s 181ms/step - loss: 0.0013\n",
            "Epoch 23/100\n",
            "62/62 [==============================] - 10s 170ms/step - loss: 0.0014\n",
            "Epoch 24/100\n",
            "62/62 [==============================] - 8s 134ms/step - loss: 0.0014\n",
            "Epoch 25/100\n",
            "62/62 [==============================] - 10s 164ms/step - loss: 0.0013\n",
            "Epoch 26/100\n",
            "62/62 [==============================] - 10s 162ms/step - loss: 0.0013\n",
            "Epoch 27/100\n",
            "62/62 [==============================] - 8s 131ms/step - loss: 0.0013\n",
            "Epoch 28/100\n",
            "62/62 [==============================] - 10s 159ms/step - loss: 0.0012\n",
            "Epoch 29/100\n",
            "62/62 [==============================] - 9s 154ms/step - loss: 0.0011\n",
            "Epoch 30/100\n",
            "62/62 [==============================] - 8s 131ms/step - loss: 0.0012\n",
            "Epoch 31/100\n",
            "62/62 [==============================] - 10s 158ms/step - loss: 0.0011\n",
            "Epoch 32/100\n",
            "62/62 [==============================] - 8s 134ms/step - loss: 9.8841e-04\n",
            "Epoch 33/100\n",
            "62/62 [==============================] - 9s 151ms/step - loss: 9.7629e-04\n",
            "Epoch 34/100\n",
            "62/62 [==============================] - 10s 159ms/step - loss: 0.0011\n",
            "Epoch 35/100\n",
            "62/62 [==============================] - 8s 128ms/step - loss: 0.0011\n",
            "Epoch 36/100\n",
            "62/62 [==============================] - 10s 160ms/step - loss: 9.8419e-04\n",
            "Epoch 37/100\n",
            "62/62 [==============================] - 10s 155ms/step - loss: 9.4942e-04\n",
            "Epoch 38/100\n",
            "62/62 [==============================] - 8s 132ms/step - loss: 9.5601e-04\n",
            "Epoch 39/100\n",
            "62/62 [==============================] - 10s 162ms/step - loss: 9.2701e-04\n",
            "Epoch 40/100\n",
            "62/62 [==============================] - 9s 143ms/step - loss: 8.8431e-04\n",
            "Epoch 41/100\n",
            "62/62 [==============================] - 9s 145ms/step - loss: 7.9683e-04\n",
            "Epoch 42/100\n",
            "62/62 [==============================] - 10s 160ms/step - loss: 0.0010\n",
            "Epoch 43/100\n",
            "62/62 [==============================] - 8s 128ms/step - loss: 9.3952e-04\n",
            "Epoch 44/100\n",
            "62/62 [==============================] - 10s 159ms/step - loss: 8.8468e-04\n",
            "Epoch 45/100\n",
            "62/62 [==============================] - 10s 161ms/step - loss: 9.5322e-04\n",
            "Epoch 46/100\n",
            "62/62 [==============================] - 8s 129ms/step - loss: 9.2755e-04\n",
            "Epoch 47/100\n",
            "62/62 [==============================] - 10s 159ms/step - loss: 8.9977e-04\n",
            "Epoch 48/100\n",
            "62/62 [==============================] - 9s 145ms/step - loss: 8.2196e-04\n",
            "Epoch 49/100\n",
            "62/62 [==============================] - 9s 143ms/step - loss: 8.5345e-04\n",
            "Epoch 50/100\n",
            "62/62 [==============================] - 10s 161ms/step - loss: 0.0010\n",
            "Epoch 51/100\n",
            "62/62 [==============================] - 8s 135ms/step - loss: 7.8473e-04\n",
            "Epoch 52/100\n",
            "62/62 [==============================] - 10s 158ms/step - loss: 7.6861e-04\n",
            "Epoch 53/100\n",
            "62/62 [==============================] - 10s 163ms/step - loss: 7.8176e-04\n",
            "Epoch 54/100\n",
            "62/62 [==============================] - 8s 130ms/step - loss: 9.4499e-04\n",
            "Epoch 55/100\n",
            "62/62 [==============================] - 10s 162ms/step - loss: 8.5548e-04\n",
            "Epoch 56/100\n",
            "62/62 [==============================] - 10s 160ms/step - loss: 7.5734e-04\n",
            "Epoch 57/100\n",
            "62/62 [==============================] - 8s 130ms/step - loss: 7.8852e-04\n",
            "Epoch 58/100\n",
            "62/62 [==============================] - 10s 160ms/step - loss: 8.0283e-04\n",
            "Epoch 59/100\n",
            "62/62 [==============================] - 9s 147ms/step - loss: 8.4646e-04\n",
            "Epoch 60/100\n",
            "62/62 [==============================] - 9s 140ms/step - loss: 8.3772e-04\n",
            "Epoch 61/100\n",
            "62/62 [==============================] - 10s 161ms/step - loss: 7.7650e-04\n",
            "Epoch 62/100\n",
            "62/62 [==============================] - 8s 129ms/step - loss: 6.7071e-04\n",
            "Epoch 63/100\n",
            "62/62 [==============================] - 10s 156ms/step - loss: 6.4799e-04\n",
            "Epoch 64/100\n",
            "62/62 [==============================] - 10s 160ms/step - loss: 6.8389e-04\n",
            "Epoch 65/100\n",
            "62/62 [==============================] - 8s 129ms/step - loss: 7.0066e-04\n",
            "Epoch 66/100\n",
            "62/62 [==============================] - 10s 162ms/step - loss: 5.8229e-04\n",
            "Epoch 67/100\n",
            "62/62 [==============================] - 10s 154ms/step - loss: 6.7738e-04\n",
            "Epoch 68/100\n",
            "62/62 [==============================] - 8s 133ms/step - loss: 6.8775e-04\n",
            "Epoch 69/100\n",
            "62/62 [==============================] - 10s 159ms/step - loss: 7.1905e-04\n",
            "Epoch 70/100\n",
            "62/62 [==============================] - 8s 133ms/step - loss: 6.7205e-04\n",
            "Epoch 71/100\n",
            "62/62 [==============================] - 9s 152ms/step - loss: 7.0424e-04\n",
            "Epoch 72/100\n",
            "62/62 [==============================] - 10s 161ms/step - loss: 7.1740e-04\n",
            "Epoch 73/100\n",
            "62/62 [==============================] - 8s 129ms/step - loss: 7.4845e-04\n",
            "Epoch 74/100\n",
            "62/62 [==============================] - 10s 162ms/step - loss: 7.1156e-04\n",
            "Epoch 75/100\n",
            "62/62 [==============================] - 10s 156ms/step - loss: 6.6961e-04\n",
            "Epoch 76/100\n",
            "62/62 [==============================] - 8s 129ms/step - loss: 7.1323e-04\n",
            "Epoch 77/100\n",
            "62/62 [==============================] - 10s 161ms/step - loss: 7.2121e-04\n",
            "Epoch 78/100\n",
            "62/62 [==============================] - 9s 137ms/step - loss: 7.3385e-04\n",
            "Epoch 79/100\n",
            "62/62 [==============================] - 9s 151ms/step - loss: 6.5219e-04\n",
            "Epoch 80/100\n",
            "62/62 [==============================] - 10s 161ms/step - loss: 6.6079e-04\n",
            "Epoch 81/100\n",
            "62/62 [==============================] - 8s 127ms/step - loss: 6.1996e-04\n",
            "Epoch 82/100\n",
            "62/62 [==============================] - 10s 159ms/step - loss: 7.4513e-04\n",
            "Epoch 83/100\n",
            "62/62 [==============================] - 10s 161ms/step - loss: 6.9466e-04\n",
            "Epoch 84/100\n",
            "62/62 [==============================] - 8s 131ms/step - loss: 8.1381e-04\n",
            "Epoch 85/100\n",
            "62/62 [==============================] - 10s 161ms/step - loss: 6.4775e-04\n",
            "Epoch 86/100\n",
            "62/62 [==============================] - 9s 148ms/step - loss: 5.5658e-04\n",
            "Epoch 87/100\n",
            "62/62 [==============================] - 9s 138ms/step - loss: 7.5390e-04\n",
            "Epoch 88/100\n",
            "62/62 [==============================] - 10s 160ms/step - loss: 5.8664e-04\n",
            "Epoch 89/100\n",
            "62/62 [==============================] - 8s 132ms/step - loss: 6.4387e-04\n",
            "Epoch 90/100\n",
            "62/62 [==============================] - 10s 156ms/step - loss: 6.8056e-04\n",
            "Epoch 91/100\n",
            "62/62 [==============================] - 10s 161ms/step - loss: 6.7918e-04\n",
            "Epoch 92/100\n",
            "62/62 [==============================] - 8s 132ms/step - loss: 5.9543e-04\n",
            "Epoch 93/100\n",
            "62/62 [==============================] - 10s 159ms/step - loss: 6.9571e-04\n",
            "Epoch 94/100\n",
            "62/62 [==============================] - 10s 155ms/step - loss: 6.7792e-04\n",
            "Epoch 95/100\n",
            "62/62 [==============================] - 8s 132ms/step - loss: 6.4917e-04\n",
            "Epoch 96/100\n",
            "62/62 [==============================] - 10s 159ms/step - loss: 6.3562e-04\n",
            "Epoch 97/100\n",
            "62/62 [==============================] - 8s 136ms/step - loss: 6.3435e-04\n",
            "Epoch 98/100\n",
            "62/62 [==============================] - 9s 151ms/step - loss: 7.0373e-04\n",
            "Epoch 99/100\n",
            "62/62 [==============================] - 10s 162ms/step - loss: 6.1033e-04\n",
            "Epoch 100/100\n",
            "62/62 [==============================] - 8s 130ms/step - loss: 5.8975e-04\n"
          ]
        },
        {
          "output_type": "execute_result",
          "data": {
            "text/plain": [
              "<keras.callbacks.History at 0x7f699daf3160>"
            ]
          },
          "metadata": {},
          "execution_count": 40
        }
      ]
    },
    {
      "cell_type": "markdown",
      "source": [
        "<b>Making Predictions on the Test Set</b><br>\n",
        "We start off by importing the test set as df1"
      ],
      "metadata": {
        "id": "Qz5oHpSUXBne"
      }
    },
    {
      "cell_type": "code",
      "source": [
        "df1 = pd.read_csv('/content/drive/My Drive/Colab Notebooks/LetsGrowMore Internship/Beginner Level/Task 2-Stock Market Prediction and Marketing Using Stacked LSTM/NSE-TATAGLOBAL.csv')\n",
        "real_stock_price = df1.iloc[:, 1:2].values"
      ],
      "metadata": {
        "id": "iH6nmTQ7ODKS"
      },
      "execution_count": 41,
      "outputs": []
    },
    {
      "cell_type": "markdown",
      "source": [
        "Before predicting future stock prices, we have to modify the test set (notice similarities to the edits we made to the training set): merge the training set and the test set on the 0 axis, set 60 as the time step again, use MinMaxScaler, and reshape data. Then, inverse_transform puts the stock prices in a normal readable format."
      ],
      "metadata": {
        "id": "S-usw2pBXMd2"
      }
    },
    {
      "cell_type": "code",
      "source": [
        "dataset_total = pd.concat((df['Open'], df1['Open']), axis = 0)\n",
        "inputs = dataset_total[len(dataset_total) - len(df1) - 60:].values\n",
        "inputs = inputs.reshape(-1,1)\n",
        "inputs = sc.transform(inputs)\n",
        "X_test = []\n",
        "for i in range(60, 76):\n",
        "  X_test.append(inputs[i-60:i, 0])\n",
        "X_test = np.array(X_test)\n",
        "X_test = np.reshape(X_test, (X_test.shape[0], X_test.shape[1], 1))\n",
        "predicted_stock_price = model.predict(X_test)\n",
        "predicted_stock_price = sc.inverse_transform(predicted_stock_price)"
      ],
      "metadata": {
        "colab": {
          "base_uri": "https://localhost:8080/"
        },
        "id": "y1NlXY7_TZ1Z",
        "outputId": "335bed9d-1ac5-4a22-ed0e-d565d1937e0c"
      },
      "execution_count": 44,
      "outputs": [
        {
          "output_type": "stream",
          "name": "stdout",
          "text": [
            "1/1 [==============================] - 2s 2s/step\n"
          ]
        }
      ]
    },
    {
      "cell_type": "markdown",
      "source": [
        "<b>Plotting the Results</b><br>\n",
        "After all these steps, we can use matplotlib to visualize the result of our predicted stock price and the actual stock price."
      ],
      "metadata": {
        "id": "DPn8aN_WXRBR"
      }
    },
    {
      "cell_type": "code",
      "source": [
        "plt.plot(real_stock_price, color = 'blue', label = 'TATA Stock Price')\n",
        "plt.plot(predicted_stock_price, color = 'red', label = 'Predicted TATA Stock Price')\n",
        "plt.title('TATA Stock Price Prediction')\n",
        "plt.xlabel('Time')\n",
        "plt.ylabel('TATA Stock Price')\n",
        "plt.legend()\n",
        "plt.show()"
      ],
      "metadata": {
        "colab": {
          "base_uri": "https://localhost:8080/",
          "height": 472
        },
        "id": "z_HjOiKaT5hj",
        "outputId": "e8df9eb7-791d-42b3-d602-6ae1252b9a67"
      },
      "execution_count": 47,
      "outputs": [
        {
          "output_type": "display_data",
          "data": {
            "text/plain": [
              "<Figure size 640x480 with 1 Axes>"
            ],
            "image/png": "[encoded data removed]"
          },
          "metadata": {}
        }
      ]
    },
    {
      "cell_type": "markdown",
      "source": [
        "While the exact price points from our predicted price weren’t always close to the actual price, our model did still indicate overall trends such as going up or down. This project teaches us the LSTMs can be somewhat effective in times series forecasting."
      ],
      "metadata": {
        "id": "f3x-AwXTVIQ0"
      }
    }
  ]
}